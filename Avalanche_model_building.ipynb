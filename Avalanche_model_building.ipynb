{
 "metadata": {
  "language_info": {
   "codemirror_mode": {
    "name": "ipython",
    "version": 3
   },
   "file_extension": ".py",
   "mimetype": "text/x-python",
   "name": "python",
   "nbconvert_exporter": "python",
   "pygments_lexer": "ipython3",
   "version": "3.8.5"
  },
  "orig_nbformat": 2,
  "kernelspec": {
   "name": "python385jvsc74a57bd0937229e3b8cc234f45d1b83f259b22cb5a2a2997d0f15f5055a6695ba05997b0",
   "display_name": "Python 3.8.5 64-bit ('base': conda)"
  },
  "metadata": {
   "interpreter": {
    "hash": "42c333185575f155416f495c198c86d87f9e670460b875bf5303d0b7fb1f6d34"
   }
  }
 },
 "nbformat": 4,
 "nbformat_minor": 2,
 "cells": [
  {
   "cell_type": "code",
   "execution_count": 5,
   "metadata": {},
   "outputs": [],
   "source": [
    "import pandas as pd\n",
    "import numpy as np\n",
    "import matplotlib.pyplot as plt"
   ]
  },
  {
   "cell_type": "code",
   "execution_count": 6,
   "metadata": {},
   "outputs": [],
   "source": [
    "avalanche_df = pd.read_csv('avalanche.csv')"
   ]
  },
  {
   "cell_type": "code",
   "execution_count": 9,
   "metadata": {},
   "outputs": [
    {
     "output_type": "execute_result",
     "data": {
      "text/plain": [
       "(2450, 3)"
      ]
     },
     "metadata": {},
     "execution_count": 9
    }
   ],
   "source": [
    "avalanche_df.shape"
   ]
  },
  {
   "cell_type": "code",
   "execution_count": 24,
   "metadata": {},
   "outputs": [
    {
     "output_type": "execute_result",
     "data": {
      "text/plain": [
       "                    date_occured    latitude    longitude\n",
       "0  Thursday, May 27, 2021, 14:00  59.713938°  135.095702°\n",
       "1  Saturday, May 22, 2021, 09:00  51.171303°  116.051255°\n",
       "2    Sunday, May 16, 2021, 11:00  50.427560°  122.473110°\n",
       "3  Saturday, May 15, 2021, 12:00  51.394930°  116.265450°\n",
       "4    Friday, May 14, 2021, 12:30  51.395059°  116.257463°"
      ],
      "text/html": "<div>\n<style scoped>\n    .dataframe tbody tr th:only-of-type {\n        vertical-align: middle;\n    }\n\n    .dataframe tbody tr th {\n        vertical-align: top;\n    }\n\n    .dataframe thead th {\n        text-align: right;\n    }\n</style>\n<table border=\"1\" class=\"dataframe\">\n  <thead>\n    <tr style=\"text-align: right;\">\n      <th></th>\n      <th>date_occured</th>\n      <th>latitude</th>\n      <th>longitude</th>\n    </tr>\n  </thead>\n  <tbody>\n    <tr>\n      <th>0</th>\n      <td>Thursday, May 27, 2021, 14:00</td>\n      <td>59.713938°</td>\n      <td>135.095702°</td>\n    </tr>\n    <tr>\n      <th>1</th>\n      <td>Saturday, May 22, 2021, 09:00</td>\n      <td>51.171303°</td>\n      <td>116.051255°</td>\n    </tr>\n    <tr>\n      <th>2</th>\n      <td>Sunday, May 16, 2021, 11:00</td>\n      <td>50.427560°</td>\n      <td>122.473110°</td>\n    </tr>\n    <tr>\n      <th>3</th>\n      <td>Saturday, May 15, 2021, 12:00</td>\n      <td>51.394930°</td>\n      <td>116.265450°</td>\n    </tr>\n    <tr>\n      <th>4</th>\n      <td>Friday, May 14, 2021, 12:30</td>\n      <td>51.395059°</td>\n      <td>116.257463°</td>\n    </tr>\n  </tbody>\n</table>\n</div>"
     },
     "metadata": {},
     "execution_count": 24
    }
   ],
   "source": [
    "avalanche_df.head()"
   ]
  },
  {
   "cell_type": "code",
   "execution_count": 14,
   "metadata": {},
   "outputs": [],
   "source": [
    "avalanche_df.drop(columns=avalanche_df.columns[0], axis=1, inplace=True)"
   ]
  },
  {
   "cell_type": "code",
   "execution_count": 18,
   "metadata": {},
   "outputs": [],
   "source": [
    "locations = avalanche_df['location'].str.split(expand=True)"
   ]
  },
  {
   "cell_type": "code",
   "execution_count": 23,
   "metadata": {},
   "outputs": [],
   "source": [
    "avalanche_df['latitude'] = locations[0]\n",
    "avalanche_df['longitude'] = locations[2]\n",
    "avalanche_df.drop('location', axis = 1, inplace=True)"
   ]
  }
 ]
}