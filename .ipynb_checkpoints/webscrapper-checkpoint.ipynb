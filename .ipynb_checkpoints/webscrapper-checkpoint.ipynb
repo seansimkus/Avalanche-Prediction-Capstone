{
 "cells": [
  {
   "cell_type": "code",
   "execution_count": 2,
   "metadata": {},
   "outputs": [
    {
     "name": "stdout",
     "output_type": "stream",
     "text": [
      "Collecting selenium\n",
      "  Using cached selenium-3.141.0-py2.py3-none-any.whl (904 kB)\n",
      "Requirement already satisfied: urllib3 in c:\\users\\seans\\anaconda3\\envs\\deeplearning\\lib\\site-packages (from selenium) (1.26.4)\n",
      "Installing collected packages: selenium\n",
      "Successfully installed selenium-3.141.0\n"
     ]
    }
   ],
   "source": [
    "!pip install selenium"
   ]
  },
  {
   "cell_type": "code",
   "execution_count": 3,
   "metadata": {},
   "outputs": [],
   "source": [
    "from typing import Text\n",
    "from selenium import webdriver\n",
    "from selenium.webdriver.common import keys\n",
    "from selenium.webdriver.common.keys import Keys\n",
    "from time import sleep\n",
    "import pandas as pd"
   ]
  },
  {
   "cell_type": "code",
   "execution_count": 4,
   "metadata": {},
   "outputs": [
    {
     "name": "stdout",
     "output_type": "stream",
     "text": [
      "Avalanche Canada\n"
     ]
    }
   ],
   "source": [
    "PATH = 'C:\\Program Files (x86)\\chromedriver.exe'\n",
    "driver = webdriver.Chrome(PATH)\n",
    "\n",
    "driver.get('https://www.avalanche.ca/mountain-information-network/submissions')\n",
    "print(driver.title)"
   ]
  },
  {
   "cell_type": "code",
   "execution_count": 5,
   "metadata": {},
   "outputs": [],
   "source": [
    "dropdown = driver.find_element_by_class_name('Dropdown_Container__2ZbXz')\n",
    "dropdown.click()\n",
    "driver.find_element_by_xpath('//div[@title=\"Avalanche\"]').click()"
   ]
  },
  {
   "cell_type": "code",
   "execution_count": 22,
   "metadata": {},
   "outputs": [],
   "source": [
    "datebox = driver.find_element_by_class_name('DayPickerInput')\n",
    "datebox.click()\n",
    "\n",
    "\n",
    "date_change_button = driver.find_element_by_xpath(\"//div[@class='DayPicker-NavBar']/span[@class='DayPicker-NavButton DayPicker-NavButton--prev']\")\n",
    "date_change_button.click()\n",
    "\n",
    "datebox_month =  driver.find_element_by_class_name(\"DayPicker-Caption\").text\n",
    "\n",
    "while datebox_month != 'FEBRUARY 2016':\n",
    "    new_datebox_month =  driver.find_element_by_class_name(\"DayPicker-Caption\").text\n",
    "    date_change_button.click()\n",
    "    datebox_month = new_datebox_month\n",
    "    \n",
    "select_date_button = driver.find_element_by_xpath(\"//div[@class='DayPicker-Week']/div[@aria-label='Friday, January 1, 2016']\")\n",
    "select_date_button.click()"
   ]
  },
  {
   "cell_type": "code",
   "execution_count": 23,
   "metadata": {},
   "outputs": [],
   "source": [
    "# report_url_list = []\n",
    "# delay = 15\n",
    "# for i in range(2,48):\n",
    "#     try:\n",
    "#         myElem = WebDriverWait(driver, delay).until(EC.presence_of_element_located((By.xpath, '//*[@id=\"root\"]/div/div/div/div/div/div/div/main/div[2]/table/tbody/tr[1]/td[1]/a/img')))\n",
    "#         print \"Page is ready!\"\n",
    "\n",
    "\n",
    "#         reports = driver.find_elements_by_xpath(\"//a[contains(@href, '/map?panel=mountain-information-network-submissions/')]\")\n",
    "#         for report in reports:\n",
    "#             report_url_list.append(report.get_attribute('href'))\n",
    "#         if i<10:\n",
    "#             driver.find_element_by_xpath(\"//*[@id='root']/div/div/div/div/div/div/div/main/p/div/button[\"+str(i)+\"]\").click()\n",
    "#         else:\n",
    "#             driver.find_element_by_xpath(\"//*[@id='root']/div/div/div/div/div/div/div/main/p/div/button[7]\").click()\n",
    "#         print(i)\n",
    "#     except TimeoutException:\n",
    "#         print \"Loading took too much time!\"\n",
    "    \n",
    "# print(len(report_url_list))"
   ]
  },
  {
   "cell_type": "code",
   "execution_count": 26,
   "metadata": {},
   "outputs": [
    {
     "name": "stdout",
     "output_type": "stream",
     "text": [
      "2\n",
      "3\n",
      "4\n",
      "5\n",
      "6\n",
      "7\n",
      "8\n",
      "9\n",
      "10\n",
      "11\n",
      "12\n",
      "13\n",
      "14\n",
      "15\n",
      "16\n",
      "17\n",
      "18\n",
      "19\n",
      "20\n",
      "21\n",
      "22\n",
      "23\n",
      "24\n",
      "25\n",
      "26\n",
      "27\n",
      "28\n",
      "29\n",
      "30\n",
      "31\n",
      "32\n",
      "33\n",
      "34\n",
      "35\n",
      "36\n",
      "37\n",
      "38\n",
      "39\n",
      "40\n",
      "41\n",
      "42\n",
      "43\n",
      "44\n",
      "45\n",
      "46\n",
      "47\n",
      "2300\n"
     ]
    }
   ],
   "source": [
    "report_url_list = []\n",
    "\n",
    "for i in range(2,48):\n",
    "    reports = driver.find_elements_by_xpath(\"//a[contains(@href, '/map?panel=mountain-information-network-submissions/')]\")\n",
    "    for report in reports:\n",
    "        report_url_list.append(report.get_attribute('href'))\n",
    "    if i<10:\n",
    "        driver.find_element_by_xpath(\"//*[@id='root']/div/div/div/div/div/div/div/main/p/div/button[\"+str(i)+\"]\").click()\n",
    "    else:\n",
    "        driver.find_element_by_xpath(\"//*[@id='root']/div/div/div/div/div/div/div/main/p/div/button[7]\").click()\n",
    "    print(i)\n",
    "    sleep(10)\n",
    "    \n",
    "print(len(report_url_list))"
   ]
  },
  {
   "cell_type": "code",
   "execution_count": 27,
   "metadata": {},
   "outputs": [
    {
     "name": "stdout",
     "output_type": "stream",
     "text": [
      "2300\n"
     ]
    }
   ],
   "source": [
    "print(len(report_url_list))"
   ]
  },
  {
   "cell_type": "code",
   "execution_count": 30,
   "metadata": {},
   "outputs": [],
   "source": [
    "incident_links = pd.DataFrame({'links':report_url_list})"
   ]
  },
  {
   "cell_type": "code",
   "execution_count": 33,
   "metadata": {},
   "outputs": [],
   "source": [
    "incident_links.to_csv('avanlanche_links.csv',index=False)"
   ]
  },
  {
   "cell_type": "code",
   "execution_count": 8,
   "metadata": {},
   "outputs": [
    {
     "ename": "ValueError",
     "evalue": "illegal newline value: ,",
     "output_type": "error",
     "traceback": [
      "\u001b[1;31m---------------------------------------------------------------------------\u001b[0m",
      "\u001b[1;31mValueError\u001b[0m                                Traceback (most recent call last)",
      "\u001b[1;32m<ipython-input-8-7436678efde2>\u001b[0m in \u001b[0;36m<module>\u001b[1;34m\u001b[0m\n\u001b[0;32m      1\u001b[0m \u001b[1;32mimport\u001b[0m \u001b[0mcsv\u001b[0m\u001b[1;33m\u001b[0m\u001b[1;33m\u001b[0m\u001b[0m\n\u001b[0;32m      2\u001b[0m \u001b[1;33m\u001b[0m\u001b[0m\n\u001b[1;32m----> 3\u001b[1;33m \u001b[1;32mwith\u001b[0m \u001b[0mopen\u001b[0m\u001b[1;33m(\u001b[0m\u001b[1;34m'avanlanche_links.csv'\u001b[0m\u001b[1;33m,\u001b[0m \u001b[0mnewline\u001b[0m\u001b[1;33m=\u001b[0m\u001b[1;34m','\u001b[0m\u001b[1;33m)\u001b[0m \u001b[1;32mas\u001b[0m \u001b[0mf\u001b[0m\u001b[1;33m:\u001b[0m\u001b[1;33m\u001b[0m\u001b[1;33m\u001b[0m\u001b[0m\n\u001b[0m\u001b[0;32m      4\u001b[0m     \u001b[0mreader\u001b[0m \u001b[1;33m=\u001b[0m \u001b[0mcsv\u001b[0m\u001b[1;33m.\u001b[0m\u001b[0mreader\u001b[0m\u001b[1;33m(\u001b[0m\u001b[0mf\u001b[0m\u001b[1;33m)\u001b[0m\u001b[1;33m\u001b[0m\u001b[1;33m\u001b[0m\u001b[0m\n\u001b[0;32m      5\u001b[0m     \u001b[0mdata\u001b[0m \u001b[1;33m=\u001b[0m \u001b[0mlist\u001b[0m\u001b[1;33m(\u001b[0m\u001b[0mreader\u001b[0m\u001b[1;33m)\u001b[0m\u001b[1;33m\u001b[0m\u001b[1;33m\u001b[0m\u001b[0m\n",
      "\u001b[1;31mValueError\u001b[0m: illegal newline value: ,"
     ]
    }
   ],
   "source": [
    "import csv\n",
    "\n",
    "with open('avanlanche_links.csv', newline='') as f:\n",
    "    reader = csv.reader(f)\n",
    "    data = list(reader)"
   ]
  },
  {
   "cell_type": "code",
   "execution_count": 7,
   "metadata": {
    "tags": [
     "outputPrepend"
    ]
   },
   "outputs": [
    {
     "name": "stdout",
     "output_type": "stream",
     "text": [
      "/map?panel=mountain-information-network-submissions/d4c7cfba-ae85-45b4-ad12-07ea3efb8c27'], ['2142', 'https://www.avalanche.ca/map?panel=mountain-information-network-submissions/12e8efb5-b61e-48a6-82cc-814c2cb1830c'], ['2143', 'https://www.avalanche.ca/map?panel=mountain-information-network-submissions/d7f30792-97f8-4ba9-a033-1969eb0029ba'], ['2144', 'https://www.avalanche.ca/map?panel=mountain-information-network-submissions/62a00eb7-6d9a-478e-b3b3-172364b5f41e'], ['2145', 'https://www.avalanche.ca/map?panel=mountain-information-network-submissions/60ffdf97-611a-4913-92c1-32a1f264ee60'], ['2146', 'https://www.avalanche.ca/map?panel=mountain-information-network-submissions/0914d092-9802-4983-b806-7a21f0aaaa67'], ['2147', 'https://www.avalanche.ca/map?panel=mountain-information-network-submissions/388a1e29-265d-48e1-b9bf-0778a5b9de1b'], ['2148', 'https://www.avalanche.ca/map?panel=mountain-information-network-submissions/7ca2857f-66aa-4909-bd02-fdce630229ea'], ['2149', 'https://www.avalanche.ca/map?panel=mountain-information-network-submissions/4c320cfd-bd14-4ec4-b950-76d4d698262e'], ['2150', 'https://www.avalanche.ca/map?panel=mountain-information-network-submissions/de74b496-8516-4718-9f27-c09fb3726f71'], ['2151', 'https://www.avalanche.ca/map?panel=mountain-information-network-submissions/18320018-97f6-461d-b05d-b222d782527e'], ['2152', 'https://www.avalanche.ca/map?panel=mountain-information-network-submissions/97b33a69-edd5-4902-98b5-b452ac7b42b9'], ['2153', 'https://www.avalanche.ca/map?panel=mountain-information-network-submissions/d0f5afbc-cbb8-4176-b10a-9835722ee253'], ['2154', 'https://www.avalanche.ca/map?panel=mountain-information-network-submissions/289a8883-f39c-4b01-ae0b-e08020141639'], ['2155', 'https://www.avalanche.ca/map?panel=mountain-information-network-submissions/f0b6b6a3-8537-40af-9623-9567e1be7733'], ['2156', 'https://www.avalanche.ca/map?panel=mountain-information-network-submissions/e749bef8-ab53-4291-a897-6fd0ac1dcc4a'], ['2157', 'https://www.avalanche.ca/map?panel=mountain-information-network-submissions/49772b06-3fde-424f-9544-73db7c21ece6'], ['2158', 'https://www.avalanche.ca/map?panel=mountain-information-network-submissions/bc6e4c70-c268-45f9-a479-1c6b84678ce5'], ['2159', 'https://www.avalanche.ca/map?panel=mountain-information-network-submissions/88950067-adb6-4e3e-8c2f-f95dc23210c4'], ['2160', 'https://www.avalanche.ca/map?panel=mountain-information-network-submissions/2bd04271-4de0-45af-8d83-0d93487c8cc0'], ['2161', 'https://www.avalanche.ca/map?panel=mountain-information-network-submissions/83a1a6cb-23d2-4c3a-86b3-e710c38d22e6'], ['2162', 'https://www.avalanche.ca/map?panel=mountain-information-network-submissions/501af72e-d60e-4df5-ab15-f31b43911226'], ['2163', 'https://www.avalanche.ca/map?panel=mountain-information-network-submissions/d748766c-9197-47bf-8efb-4c59da1ba19f'], ['2164', 'https://www.avalanche.ca/map?panel=mountain-information-network-submissions/75773473-3dc9-455d-b3e0-a9c1c2e3ebf6'], ['2165', 'https://www.avalanche.ca/map?panel=mountain-information-network-submissions/1fd50b6a-0418-4cd1-85d8-8fe726e6ca5e'], ['2166', 'https://www.avalanche.ca/map?panel=mountain-information-network-submissions/aa74aa29-2340-48ba-853a-89307f77b5fb'], ['2167', 'https://www.avalanche.ca/map?panel=mountain-information-network-submissions/a77d0db9-f10b-4237-ac13-82016049c957'], ['2168', 'https://www.avalanche.ca/map?panel=mountain-information-network-submissions/1f78e998-a07e-494d-a7ce-e01750af48fd'], ['2169', 'https://www.avalanche.ca/map?panel=mountain-information-network-submissions/d6c1875f-4626-48db-8445-a3b47323cb14'], ['2170', 'https://www.avalanche.ca/map?panel=mountain-information-network-submissions/452f4957-fe85-490b-bdb6-667002b1acc0'], ['2171', 'https://www.avalanche.ca/map?panel=mountain-information-network-submissions/9f57786b-3e48-427f-837c-eabcbd9c16c9'], ['2172', 'https://www.avalanche.ca/map?panel=mountain-information-network-submissions/2d55b9cf-a2db-409d-a1c6-96b68898ca80'], ['2173', 'https://www.avalanche.ca/map?panel=mountain-information-network-submissions/a2145289-c3b5-429c-9c5f-c8b3a40b510c'], ['2174', 'https://www.avalanche.ca/map?panel=mountain-information-network-submissions/9f5c54b4-c17d-4311-8b72-e70777fe731a'], ['2175', 'https://www.avalanche.ca/map?panel=mountain-information-network-submissions/4d956805-7e15-486a-a23f-23d809b2f189'], ['2176', 'https://www.avalanche.ca/map?panel=mountain-information-network-submissions/0183ace4-99b8-4599-b162-140a09e14001'], ['2177', 'https://www.avalanche.ca/map?panel=mountain-information-network-submissions/acea4bbb-6f9a-4216-a90e-096f483d0281'], ['2178', 'https://www.avalanche.ca/map?panel=mountain-information-network-submissions/e3c8a40e-47d1-4067-b756-77d6c7b8fc2b'], ['2179', 'https://www.avalanche.ca/map?panel=mountain-information-network-submissions/00336824-5d4f-4f56-896d-f6ac32516e0a'], ['2180', 'https://www.avalanche.ca/map?panel=mountain-information-network-submissions/d3471b36-a7da-4efb-a4e9-704b6f51f0bc'], ['2181', 'https://www.avalanche.ca/map?panel=mountain-information-network-submissions/82bd9528-94a7-4559-ad4c-1cd23f9e8c7a'], ['2182', 'https://www.avalanche.ca/map?panel=mountain-information-network-submissions/0e698469-deee-448c-a7ab-6012205d51f4'], ['2183', 'https://www.avalanche.ca/map?panel=mountain-information-network-submissions/8752c50e-ccd7-4850-921b-596c1066f589'], ['2184', 'https://www.avalanche.ca/map?panel=mountain-information-network-submissions/a4f273fa-d382-4afc-ac89-ab1b6ffc344a'], ['2185', 'https://www.avalanche.ca/map?panel=mountain-information-network-submissions/f05be07c-dea2-43ae-a02a-f1273cab4c0b'], ['2186', 'https://www.avalanche.ca/map?panel=mountain-information-network-submissions/27e1aace-93c4-46cd-9b13-87e7596cc471'], ['2187', 'https://www.avalanche.ca/map?panel=mountain-information-network-submissions/9e4d927d-4690-4e06-9470-9b0b2f70ba43'], ['2188', 'https://www.avalanche.ca/map?panel=mountain-information-network-submissions/285ebdb5-d6dc-40ec-8ba6-68018b9ea640'], ['2189', 'https://www.avalanche.ca/map?panel=mountain-information-network-submissions/e28cf0b6-6347-4077-8d0b-1df186c7b7c1'], ['2190', 'https://www.avalanche.ca/map?panel=mountain-information-network-submissions/270456f8-bbda-4d2e-8274-d250a20764ad'], ['2191', 'https://www.avalanche.ca/map?panel=mountain-information-network-submissions/fae4493b-3376-42fb-bd69-b41295ec6c68'], ['2192', 'https://www.avalanche.ca/map?panel=mountain-information-network-submissions/8ecb9ea9-5030-440f-960b-236ac54ef231'], ['2193', 'https://www.avalanche.ca/map?panel=mountain-information-network-submissions/697aa4ef-edd1-4633-8a57-f8213f87ef82'], ['2194', 'https://www.avalanche.ca/map?panel=mountain-information-network-submissions/36adc364-363b-4b1b-a7e1-c0cbc719493d'], ['2195', 'https://www.avalanche.ca/map?panel=mountain-information-network-submissions/ff2ede30-16e8-47da-9d96-0bb126b58642'], ['2196', 'https://www.avalanche.ca/map?panel=mountain-information-network-submissions/1a3361d8-c5cf-4bb2-a72d-090fc183105e'], ['2197', 'https://www.avalanche.ca/map?panel=mountain-information-network-submissions/228b67e6-6ec0-4f11-99eb-1457c6cb4158'], ['2198', 'https://www.avalanche.ca/map?panel=mountain-information-network-submissions/bb6179e5-f1ad-40b1-a31b-737a26dfdce4'], ['2199', 'https://www.avalanche.ca/map?panel=mountain-information-network-submissions/bb365518-6c27-46b2-a722-7c2a19d86183'], ['2200', 'https://www.avalanche.ca/map?panel=mountain-information-network-submissions/8ef8ccaf-5f01-4fa0-9b29-c842c6389ab8'], ['2201', 'https://www.avalanche.ca/map?panel=mountain-information-network-submissions/09a6a2ac-3ddb-47d6-976e-033712ad38d7'], ['2202', 'https://www.avalanche.ca/map?panel=mountain-information-network-submissions/dbff6b70-ac31-419c-b199-4b4d37cd6880'], ['2203', 'https://www.avalanche.ca/map?panel=mountain-information-network-submissions/b44cdc74-e807-4c91-b17c-1e2a60333401'], ['2204', 'https://www.avalanche.ca/map?panel=mountain-information-network-submissions/6ad6d067-8069-4ddb-b8f3-f0cdcc8083b9'], ['2205', 'https://www.avalanche.ca/map?panel=mountain-information-network-submissions/7c19a33f-575e-4e7d-983e-a04e7832e4db'], ['2206', 'https://www.avalanche.ca/map?panel=mountain-information-network-submissions/e159308f-bf80-4a31-a9ed-a32631d8e879'], ['2207', 'https://www.avalanche.ca/map?panel=mountain-information-network-submissions/98780911-b5ca-46b0-90eb-6e3791e8a139'], ['2208', 'https://www.avalanche.ca/map?panel=mountain-information-network-submissions/aca78ac9-b8be-498b-8217-3b6b62b4e49a'], ['2209', 'https://www.avalanche.ca/map?panel=mountain-information-network-submissions/1ce2c688-a761-4be4-9936-f83c4833274e'], ['2210', 'https://www.avalanche.ca/map?panel=mountain-information-network-submissions/e217d616-73f6-4f00-b4bd-270c80e3a446'], ['2211', 'https://www.avalanche.ca/map?panel=mountain-information-network-submissions/fd4377e8-7aef-4e37-9681-38783e5005f3'], ['2212', 'https://www.avalanche.ca/map?panel=mountain-information-network-submissions/15ecac28-480d-4f0a-a52f-223bf5302cb4'], ['2213', 'https://www.avalanche.ca/map?panel=mountain-information-network-submissions/31f716c7-18db-4074-a39e-b8eaa322c3bf'], ['2214', 'https://www.avalanche.ca/map?panel=mountain-information-network-submissions/95ef006b-68aa-481a-a3f4-da34f3a0e2a3'], ['2215', 'https://www.avalanche.ca/map?panel=mountain-information-network-submissions/fe2bacbf-5202-4a3b-815d-62d1466fb247'], ['2216', 'https://www.avalanche.ca/map?panel=mountain-information-network-submissions/f4e8d78a-b332-4f5a-962e-1737e9a6d5f6'], ['2217', 'https://www.avalanche.ca/map?panel=mountain-information-network-submissions/109f2a93-ba4b-4977-9be9-f59af70fb83d'], ['2218', 'https://www.avalanche.ca/map?panel=mountain-information-network-submissions/40127102-566d-429f-b59b-b12ecdc82d40'], ['2219', 'https://www.avalanche.ca/map?panel=mountain-information-network-submissions/ad1ed426-9ee9-4f4d-919d-adc36b2622d7'], ['2220', 'https://www.avalanche.ca/map?panel=mountain-information-network-submissions/bfa251ae-eb93-4c95-bfec-aba3d13a79aa'], ['2221', 'https://www.avalanche.ca/map?panel=mountain-information-network-submissions/393b82e0-6c1b-4b72-aeec-fd66cab5d508'], ['2222', 'https://www.avalanche.ca/map?panel=mountain-information-network-submissions/e0f962d5-c216-4f41-85c5-fb0c84343e30'], ['2223', 'https://www.avalanche.ca/map?panel=mountain-information-network-submissions/937ec3ec-085d-4eb1-848e-3b0bf7a88811'], ['2224', 'https://www.avalanche.ca/map?panel=mountain-information-network-submissions/3734c3c2-3e43-4bf0-a212-f56d6eb7d3cf'], ['2225', 'https://www.avalanche.ca/map?panel=mountain-information-network-submissions/d9620fad-38ad-4b09-adb2-e38941dbd6d4'], ['2226', 'https://www.avalanche.ca/map?panel=mountain-information-network-submissions/ebf07fc6-04ab-4164-af45-6c36d197f8e1'], ['2227', 'https://www.avalanche.ca/map?panel=mountain-information-network-submissions/c6ee8780-456e-41df-a318-bc531f11500e'], ['2228', 'https://www.avalanche.ca/map?panel=mountain-information-network-submissions/8a3f9b03-61b9-472c-a9b5-4dd29160449a'], ['2229', 'https://www.avalanche.ca/map?panel=mountain-information-network-submissions/ee2df4a8-7f8e-4980-af8c-d10d81b3bf9f'], ['2230', 'https://www.avalanche.ca/map?panel=mountain-information-network-submissions/10ecb6e8-52d6-44a7-b5ad-f8e152be290b'], ['2231', 'https://www.avalanche.ca/map?panel=mountain-information-network-submissions/47c70473-c9c6-4939-a516-b2e9250563b8'], ['2232', 'https://www.avalanche.ca/map?panel=mountain-information-network-submissions/607f51b8-fc80-46e1-b319-99c023557376'], ['2233', 'https://www.avalanche.ca/map?panel=mountain-information-network-submissions/8c1d9a0e-0f43-4dd7-8978-c2159a58ccd3'], ['2234', 'https://www.avalanche.ca/map?panel=mountain-information-network-submissions/f004c8a4-607f-4698-87b1-c42c8f45f88a'], ['2235', 'https://www.avalanche.ca/map?panel=mountain-information-network-submissions/85a4b50e-dd8b-4130-9971-14dc1db0b594'], ['2236', 'https://www.avalanche.ca/map?panel=mountain-information-network-submissions/dd76b86e-7c6b-4d7e-bd64-646a39de0500'], ['2237', 'https://www.avalanche.ca/map?panel=mountain-information-network-submissions/d427e5e0-8b40-4952-8b4b-c9adc48585d1'], ['2238', 'https://www.avalanche.ca/map?panel=mountain-information-network-submissions/146a7c34-82b7-4a02-8081-ab27a9d18e4e'], ['2239', 'https://www.avalanche.ca/map?panel=mountain-information-network-submissions/4166f837-503d-45da-82e6-89baac973327'], ['2240', 'https://www.avalanche.ca/map?panel=mountain-information-network-submissions/796eacbe-dc57-435e-bf5a-678443720803'], ['2241', 'https://www.avalanche.ca/map?panel=mountain-information-network-submissions/78563022-4d72-43a7-82b4-7c9b437ec8d6'], ['2242', 'https://www.avalanche.ca/map?panel=mountain-information-network-submissions/ee3be468-7c73-4a96-b33e-28c3118b71b3'], ['2243', 'https://www.avalanche.ca/map?panel=mountain-information-network-submissions/a28e0dd7-89c0-4328-a1de-af2ed6f0fc99'], ['2244', 'https://www.avalanche.ca/map?panel=mountain-information-network-submissions/24060800-94d5-4adf-80b0-e62446802d05'], ['2245', 'https://www.avalanche.ca/map?panel=mountain-information-network-submissions/421b1087-85e3-478e-852b-d0d059e39102'], ['2246', 'https://www.avalanche.ca/map?panel=mountain-information-network-submissions/26b7c92f-29ad-4dd7-85da-83b13bb75830'], ['2247', 'https://www.avalanche.ca/map?panel=mountain-information-network-submissions/76a42924-8cee-4624-9081-f18120edc0e7'], ['2248', 'https://www.avalanche.ca/map?panel=mountain-information-network-submissions/f03f2549-9fd3-4c13-8a2a-869c15e58b3b'], ['2249', 'https://www.avalanche.ca/map?panel=mountain-information-network-submissions/aeffea5b-4c1c-4683-919b-75985788542b'], ['2250', 'https://www.avalanche.ca/map?panel=mountain-information-network-submissions/6bbaa0d3-673c-44ff-8cd4-43f69de8562c'], ['2251', 'https://www.avalanche.ca/map?panel=mountain-information-network-submissions/5da0142a-1ade-444e-ba18-3c1093f29b5d'], ['2252', 'https://www.avalanche.ca/map?panel=mountain-information-network-submissions/6f9f2b71-e23d-4ab6-8384-f0a8a1b22df7'], ['2253', 'https://www.avalanche.ca/map?panel=mountain-information-network-submissions/0c04d9a0-b10d-414d-beef-be8351e2dca7'], ['2254', 'https://www.avalanche.ca/map?panel=mountain-information-network-submissions/d7dd9c14-96a3-4296-97ef-a69354c4b1b5'], ['2255', 'https://www.avalanche.ca/map?panel=mountain-information-network-submissions/beaba510-cbc5-4876-b1e8-c5606269dbb8'], ['2256', 'https://www.avalanche.ca/map?panel=mountain-information-network-submissions/245eac28-e459-4a3d-aa67-36bddc49ca4f'], ['2257', 'https://www.avalanche.ca/map?panel=mountain-information-network-submissions/9092d9b6-bf96-472d-8860-4052b42c77d0'], ['2258', 'https://www.avalanche.ca/map?panel=mountain-information-network-submissions/8457a028-3e21-403f-b82e-a2a9b1a7cf2e'], ['2259', 'https://www.avalanche.ca/map?panel=mountain-information-network-submissions/bda1bbd6-e826-41d3-ab50-6097b07f0aae'], ['2260', 'https://www.avalanche.ca/map?panel=mountain-information-network-submissions/0d966833-0c58-4698-a8f9-7739426c2f40'], ['2261', 'https://www.avalanche.ca/map?panel=mountain-information-network-submissions/cb68fcf5-43fd-48a6-a2be-b46589c43cba'], ['2262', 'https://www.avalanche.ca/map?panel=mountain-information-network-submissions/e00713f6-f313-42f8-b991-7cb3cb012561'], ['2263', 'https://www.avalanche.ca/map?panel=mountain-information-network-submissions/cbf1b21e-38c0-49ca-a5cc-1e5b45e44e3b'], ['2264', 'https://www.avalanche.ca/map?panel=mountain-information-network-submissions/ec98f67a-6416-4d52-b314-5efc097a0aed'], ['2265', 'https://www.avalanche.ca/map?panel=mountain-information-network-submissions/ea39c67c-72e1-4c88-ab65-691d30391586'], ['2266', 'https://www.avalanche.ca/map?panel=mountain-information-network-submissions/616b272a-4801-45cb-b823-e78e7e9d254d'], ['2267', 'https://www.avalanche.ca/map?panel=mountain-information-network-submissions/6d6c9ef3-0420-40ed-9761-22ecfdb07e1c'], ['2268', 'https://www.avalanche.ca/map?panel=mountain-information-network-submissions/5d795f0b-abf4-453d-87bc-43a8d0715323'], ['2269', 'https://www.avalanche.ca/map?panel=mountain-information-network-submissions/3610c418-c782-46a7-9337-bc10f21cc8d2'], ['2270', 'https://www.avalanche.ca/map?panel=mountain-information-network-submissions/260fe6c5-9a11-4ec4-9509-0d32ccdeefa4'], ['2271', 'https://www.avalanche.ca/map?panel=mountain-information-network-submissions/401701d1-f261-4af0-b82e-a36c989bbb14'], ['2272', 'https://www.avalanche.ca/map?panel=mountain-information-network-submissions/7be4e5ad-6e05-4eab-a3ef-b37ae0613c19'], ['2273', 'https://www.avalanche.ca/map?panel=mountain-information-network-submissions/c1b8fba5-8d48-4ef8-a750-6253639a0bfc'], ['2274', 'https://www.avalanche.ca/map?panel=mountain-information-network-submissions/a5e39332-8596-428a-b036-41592c2b9a5c'], ['2275', 'https://www.avalanche.ca/map?panel=mountain-information-network-submissions/debbae3d-208f-4f58-8c27-17128ceb25ad'], ['2276', 'https://www.avalanche.ca/map?panel=mountain-information-network-submissions/021ed445-7c79-4f79-98f3-3ab758ad59e6'], ['2277', 'https://www.avalanche.ca/map?panel=mountain-information-network-submissions/93e6d2af-167c-48fd-a1d6-950a4e54995b'], ['2278', 'https://www.avalanche.ca/map?panel=mountain-information-network-submissions/d449d632-c92a-4f11-8bca-7c0057ebf8cc'], ['2279', 'https://www.avalanche.ca/map?panel=mountain-information-network-submissions/6392aab7-2625-49cf-89bc-eeaf3befe6fb'], ['2280', 'https://www.avalanche.ca/map?panel=mountain-information-network-submissions/412a7073-935f-427d-b9f1-e13184669a23'], ['2281', 'https://www.avalanche.ca/map?panel=mountain-information-network-submissions/deb7775d-fa28-4688-b0f8-c0c5623e7c7f'], ['2282', 'https://www.avalanche.ca/map?panel=mountain-information-network-submissions/b46201df-0423-4347-a1b5-8815a3044f54'], ['2283', 'https://www.avalanche.ca/map?panel=mountain-information-network-submissions/8d3619ba-555f-4b2f-901d-b223774cb53f'], ['2284', 'https://www.avalanche.ca/map?panel=mountain-information-network-submissions/111eb2ec-5423-48be-9095-b0f0c38fa0bd'], ['2285', 'https://www.avalanche.ca/map?panel=mountain-information-network-submissions/23a142fc-b69f-45eb-ab01-70747983d77f'], ['2286', 'https://www.avalanche.ca/map?panel=mountain-information-network-submissions/062b0b89-e2af-4d60-8e20-8fe2d5428857'], ['2287', 'https://www.avalanche.ca/map?panel=mountain-information-network-submissions/3ddc3f21-9f58-4c83-871b-25de9719be73'], ['2288', 'https://www.avalanche.ca/map?panel=mountain-information-network-submissions/58efa754-b9d8-437e-9c87-92f1c56c9b90'], ['2289', 'https://www.avalanche.ca/map?panel=mountain-information-network-submissions/da4b3cb8-ff48-4cc5-8b3f-f5444e5827d8'], ['2290', 'https://www.avalanche.ca/map?panel=mountain-information-network-submissions/0d23e306-060c-4e79-9fa8-04bc04904095'], ['2291', 'https://www.avalanche.ca/map?panel=mountain-information-network-submissions/eeae45e7-ff6f-40a5-b9c7-e64d81c6ed6d'], ['2292', 'https://www.avalanche.ca/map?panel=mountain-information-network-submissions/97dac929-91d7-4e84-b542-39340921bd86'], ['2293', 'https://www.avalanche.ca/map?panel=mountain-information-network-submissions/2b35073b-42a5-420b-9b79-4c7c4be79c98'], ['2294', 'https://www.avalanche.ca/map?panel=mountain-information-network-submissions/731f079b-f027-47e5-a52e-7f365f7888f1'], ['2295', 'https://www.avalanche.ca/map?panel=mountain-information-network-submissions/41a76c79-4629-49f3-9251-47488dd4f10e'], ['2296', 'https://www.avalanche.ca/map?panel=mountain-information-network-submissions/2edf46b0-d886-497c-a52d-938cba6e68e5'], ['2297', 'https://www.avalanche.ca/map?panel=mountain-information-network-submissions/a7310458-0208-4a8d-a1ad-884d3b723f24'], ['2298', 'https://www.avalanche.ca/map?panel=mountain-information-network-submissions/0453c177-f5e9-4d7b-ad20-61e75ba16182'], ['2299', 'https://www.avalanche.ca/map?panel=mountain-information-network-submissions/e6727d3d-50ad-4a5c-86c8-5bfde24dfc80']]\n"
     ]
    }
   ],
   "source": [
    "print(data)"
   ]
  },
  {
   "cell_type": "code",
   "execution_count": 4,
   "metadata": {},
   "outputs": [],
   "source": [
    "from random import sample\n",
    "test = sample(data,10)"
   ]
  },
  {
   "cell_type": "code",
   "execution_count": 6,
   "metadata": {},
   "outputs": [
    {
     "ename": "InvalidArgumentException",
     "evalue": "Message: invalid argument: 'url' must be a string\n  (Session info: chrome=90.0.4430.212)\n",
     "output_type": "error",
     "traceback": [
      "\u001b[1;31m---------------------------------------------------------------------------\u001b[0m",
      "\u001b[1;31mInvalidArgumentException\u001b[0m                  Traceback (most recent call last)",
      "\u001b[1;32m<ipython-input-6-c309ea8e525b>\u001b[0m in \u001b[0;36m<module>\u001b[1;34m\u001b[0m\n\u001b[0;32m      4\u001b[0m \u001b[1;32mfor\u001b[0m \u001b[0mlink\u001b[0m \u001b[1;32min\u001b[0m \u001b[0mtest\u001b[0m\u001b[1;33m:\u001b[0m\u001b[1;33m\u001b[0m\u001b[1;33m\u001b[0m\u001b[0m\n\u001b[0;32m      5\u001b[0m \u001b[1;33m\u001b[0m\u001b[0m\n\u001b[1;32m----> 6\u001b[1;33m     \u001b[0mdriver\u001b[0m\u001b[1;33m.\u001b[0m\u001b[0mget\u001b[0m\u001b[1;33m(\u001b[0m\u001b[0mlink\u001b[0m\u001b[1;33m)\u001b[0m\u001b[1;33m\u001b[0m\u001b[1;33m\u001b[0m\u001b[0m\n\u001b[0m\u001b[0;32m      7\u001b[0m     \u001b[0msleep\u001b[0m\u001b[1;33m(\u001b[0m\u001b[1;36m2\u001b[0m\u001b[1;33m)\u001b[0m\u001b[1;33m\u001b[0m\u001b[1;33m\u001b[0m\u001b[0m\n\u001b[0;32m      8\u001b[0m     \u001b[0mlocation\u001b[0m \u001b[1;33m=\u001b[0m \u001b[0mdriver\u001b[0m\u001b[1;33m.\u001b[0m\u001b[0mfind_element_by_xpath\u001b[0m\u001b[1;33m(\u001b[0m\u001b[1;34m\"//*[@id='root']/div/div/div/main/section[2]/div/div[2]/dl/div[3]/dd\"\u001b[0m\u001b[1;33m)\u001b[0m\u001b[1;33m.\u001b[0m\u001b[0mget_attribute\u001b[0m\u001b[1;33m(\u001b[0m\u001b[1;34m'innerHTML'\u001b[0m\u001b[1;33m)\u001b[0m\u001b[1;33m\u001b[0m\u001b[1;33m\u001b[0m\u001b[0m\n",
      "\u001b[1;32m~\\Anaconda3\\lib\\site-packages\\selenium\\webdriver\\remote\\webdriver.py\u001b[0m in \u001b[0;36mget\u001b[1;34m(self, url)\u001b[0m\n\u001b[0;32m    331\u001b[0m         \u001b[0mLoads\u001b[0m \u001b[0ma\u001b[0m \u001b[0mweb\u001b[0m \u001b[0mpage\u001b[0m \u001b[1;32min\u001b[0m \u001b[0mthe\u001b[0m \u001b[0mcurrent\u001b[0m \u001b[0mbrowser\u001b[0m \u001b[0msession\u001b[0m\u001b[1;33m.\u001b[0m\u001b[1;33m\u001b[0m\u001b[1;33m\u001b[0m\u001b[0m\n\u001b[0;32m    332\u001b[0m         \"\"\"\n\u001b[1;32m--> 333\u001b[1;33m         \u001b[0mself\u001b[0m\u001b[1;33m.\u001b[0m\u001b[0mexecute\u001b[0m\u001b[1;33m(\u001b[0m\u001b[0mCommand\u001b[0m\u001b[1;33m.\u001b[0m\u001b[0mGET\u001b[0m\u001b[1;33m,\u001b[0m \u001b[1;33m{\u001b[0m\u001b[1;34m'url'\u001b[0m\u001b[1;33m:\u001b[0m \u001b[0murl\u001b[0m\u001b[1;33m}\u001b[0m\u001b[1;33m)\u001b[0m\u001b[1;33m\u001b[0m\u001b[1;33m\u001b[0m\u001b[0m\n\u001b[0m\u001b[0;32m    334\u001b[0m \u001b[1;33m\u001b[0m\u001b[0m\n\u001b[0;32m    335\u001b[0m     \u001b[1;33m@\u001b[0m\u001b[0mproperty\u001b[0m\u001b[1;33m\u001b[0m\u001b[1;33m\u001b[0m\u001b[0m\n",
      "\u001b[1;32m~\\Anaconda3\\lib\\site-packages\\selenium\\webdriver\\remote\\webdriver.py\u001b[0m in \u001b[0;36mexecute\u001b[1;34m(self, driver_command, params)\u001b[0m\n\u001b[0;32m    319\u001b[0m         \u001b[0mresponse\u001b[0m \u001b[1;33m=\u001b[0m \u001b[0mself\u001b[0m\u001b[1;33m.\u001b[0m\u001b[0mcommand_executor\u001b[0m\u001b[1;33m.\u001b[0m\u001b[0mexecute\u001b[0m\u001b[1;33m(\u001b[0m\u001b[0mdriver_command\u001b[0m\u001b[1;33m,\u001b[0m \u001b[0mparams\u001b[0m\u001b[1;33m)\u001b[0m\u001b[1;33m\u001b[0m\u001b[1;33m\u001b[0m\u001b[0m\n\u001b[0;32m    320\u001b[0m         \u001b[1;32mif\u001b[0m \u001b[0mresponse\u001b[0m\u001b[1;33m:\u001b[0m\u001b[1;33m\u001b[0m\u001b[1;33m\u001b[0m\u001b[0m\n\u001b[1;32m--> 321\u001b[1;33m             \u001b[0mself\u001b[0m\u001b[1;33m.\u001b[0m\u001b[0merror_handler\u001b[0m\u001b[1;33m.\u001b[0m\u001b[0mcheck_response\u001b[0m\u001b[1;33m(\u001b[0m\u001b[0mresponse\u001b[0m\u001b[1;33m)\u001b[0m\u001b[1;33m\u001b[0m\u001b[1;33m\u001b[0m\u001b[0m\n\u001b[0m\u001b[0;32m    322\u001b[0m             response['value'] = self._unwrap_value(\n\u001b[0;32m    323\u001b[0m                 response.get('value', None))\n",
      "\u001b[1;32m~\\Anaconda3\\lib\\site-packages\\selenium\\webdriver\\remote\\errorhandler.py\u001b[0m in \u001b[0;36mcheck_response\u001b[1;34m(self, response)\u001b[0m\n\u001b[0;32m    240\u001b[0m                 \u001b[0malert_text\u001b[0m \u001b[1;33m=\u001b[0m \u001b[0mvalue\u001b[0m\u001b[1;33m[\u001b[0m\u001b[1;34m'alert'\u001b[0m\u001b[1;33m]\u001b[0m\u001b[1;33m.\u001b[0m\u001b[0mget\u001b[0m\u001b[1;33m(\u001b[0m\u001b[1;34m'text'\u001b[0m\u001b[1;33m)\u001b[0m\u001b[1;33m\u001b[0m\u001b[1;33m\u001b[0m\u001b[0m\n\u001b[0;32m    241\u001b[0m             \u001b[1;32mraise\u001b[0m \u001b[0mexception_class\u001b[0m\u001b[1;33m(\u001b[0m\u001b[0mmessage\u001b[0m\u001b[1;33m,\u001b[0m \u001b[0mscreen\u001b[0m\u001b[1;33m,\u001b[0m \u001b[0mstacktrace\u001b[0m\u001b[1;33m,\u001b[0m \u001b[0malert_text\u001b[0m\u001b[1;33m)\u001b[0m\u001b[1;33m\u001b[0m\u001b[1;33m\u001b[0m\u001b[0m\n\u001b[1;32m--> 242\u001b[1;33m         \u001b[1;32mraise\u001b[0m \u001b[0mexception_class\u001b[0m\u001b[1;33m(\u001b[0m\u001b[0mmessage\u001b[0m\u001b[1;33m,\u001b[0m \u001b[0mscreen\u001b[0m\u001b[1;33m,\u001b[0m \u001b[0mstacktrace\u001b[0m\u001b[1;33m)\u001b[0m\u001b[1;33m\u001b[0m\u001b[1;33m\u001b[0m\u001b[0m\n\u001b[0m\u001b[0;32m    243\u001b[0m \u001b[1;33m\u001b[0m\u001b[0m\n\u001b[0;32m    244\u001b[0m     \u001b[1;32mdef\u001b[0m \u001b[0m_value_or_default\u001b[0m\u001b[1;33m(\u001b[0m\u001b[0mself\u001b[0m\u001b[1;33m,\u001b[0m \u001b[0mobj\u001b[0m\u001b[1;33m,\u001b[0m \u001b[0mkey\u001b[0m\u001b[1;33m,\u001b[0m \u001b[0mdefault\u001b[0m\u001b[1;33m)\u001b[0m\u001b[1;33m:\u001b[0m\u001b[1;33m\u001b[0m\u001b[1;33m\u001b[0m\u001b[0m\n",
      "\u001b[1;31mInvalidArgumentException\u001b[0m: Message: invalid argument: 'url' must be a string\n  (Session info: chrome=90.0.4430.212)\n"
     ]
    }
   ],
   "source": [
    "avalanche_location = list()\n",
    "avalanche_time = list()\n",
    "driver = webdriver.Chrome(PATH)\n",
    "for link in test:\n",
    "    \n",
    "    driver.get(link)\n",
    "    sleep(2)\n",
    "    location = driver.find_element_by_xpath(\"//*[@id='root']/div/div/div/main/section[2]/div/div[2]/dl/div[3]/dd\").get_attribute('innerHTML')\n",
    "    time_occured = driver.find_element_by_xpath(\"//*[@id='root']/div/div/div/main/section[2]/div/div[2]/dl/div[2]/dd\").get_attribute('innerHTML')\n",
    "    avalanche_location.append(location)\n",
    "    avalanche_time.append(avalanche_time)\n",
    "    sleep(2)\n",
    "\n",
    "avalanche_df = pd.DataFrame({'location':avalanche_location,'date_occured':avalanche_time})\n",
    "avalanche_df.to_csv('avalanche.csv',index=True)"
   ]
  },
  {
   "cell_type": "code",
   "execution_count": 64,
   "metadata": {},
   "outputs": [
    {
     "name": "stdout",
     "output_type": "stream",
     "text": [
      "50.427560° N 122.473110° W\n",
      "Sunday, May 16, 2021, 11:00\n"
     ]
    }
   ],
   "source": [
    "link = incident_links.iloc[1]['links']\n",
    "driver.get(link)\n",
    "sleep(2)\n",
    "location = driver.find_element_by_xpath(\"//*[@id='root']/div/div/div/main/section[2]/div/div[2]/dl/div[3]/dd\").get_attribute('innerHTML')\n",
    "time_occured = driver.find_element_by_xpath(\"//*[@id='root']/div/div/div/main/section[2]/div/div[2]/dl/div[2]/dd\").get_attribute('innerHTML')\n",
    "print(location)\n",
    "print(time_occured)\n",
    "avalanche_location_time = ({'location':location, 'time_occured':time_occured })"
   ]
  },
  {
   "cell_type": "code",
   "execution_count": null,
   "metadata": {},
   "outputs": [],
   "source": [
    "avalanche_df.to_csv('avalanche.csv',index=True)"
   ]
  },
  {
   "cell_type": "code",
   "execution_count": null,
   "metadata": {},
   "outputs": [],
   "source": [
    "avalanche_df"
   ]
  }
 ],
 "metadata": {
  "hide_input": false,
  "kernelspec": {
   "display_name": "Python 3",
   "language": "python",
   "name": "python3"
  },
  "language_info": {
   "codemirror_mode": {
    "name": "ipython",
    "version": 3
   },
   "file_extension": ".py",
   "mimetype": "text/x-python",
   "name": "python",
   "nbconvert_exporter": "python",
   "pygments_lexer": "ipython3",
   "version": "3.8.10"
  },
  "toc": {
   "base_numbering": 1,
   "nav_menu": {},
   "number_sections": true,
   "sideBar": true,
   "skip_h1_title": false,
   "title_cell": "Table of Contents",
   "title_sidebar": "Contents",
   "toc_cell": false,
   "toc_position": {},
   "toc_section_display": true,
   "toc_window_display": false
  }
 },
 "nbformat": 4,
 "nbformat_minor": 2
}
